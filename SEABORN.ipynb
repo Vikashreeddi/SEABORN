{
  "nbformat": 4,
  "nbformat_minor": 0,
  "metadata": {
    "colab": {
      "provenance": []
    },
    "kernelspec": {
      "name": "python3",
      "display_name": "Python 3"
    },
    "language_info": {
      "name": "python"
    }
  },
  "cells": [
    {
      "cell_type": "code",
      "execution_count": 2,
      "metadata": {
        "colab": {
          "base_uri": "https://localhost:8080/"
        },
        "id": "pVI2mSGg2dWg",
        "outputId": "a774f7c8-41c3-4dfe-a599-b05f0f9d6b95"
      },
      "outputs": [
        {
          "output_type": "stream",
          "name": "stdout",
          "text": [
            "https://stats.espncricinfo.com/ci/engine/stats/index.html?class=3;home_or_away=1;home_or_away=2;home_or_away=3;orderby=sixes;orderbyad=reverse;page=2;result=1;result=2;result=3;result=5;template=results;type=batting\n",
            "https://stats.espncricinfo.com/ci/engine/stats/index.html?class=3;home_or_away=1;home_or_away=2;home_or_away=3;orderby=sixes;orderbyad=reverse;page=3;result=1;result=2;result=3;result=5;template=results;type=batting\n",
            "https://stats.espncricinfo.com/ci/engine/stats/index.html?class=3;home_or_away=1;home_or_away=2;home_or_away=3;orderby=sixes;orderbyad=reverse;page=4;result=1;result=2;result=3;result=5;template=results;type=batting\n",
            "https://stats.espncricinfo.com/ci/engine/stats/index.html?class=3;home_or_away=1;home_or_away=2;home_or_away=3;orderby=sixes;orderbyad=reverse;page=5;result=1;result=2;result=3;result=5;template=results;type=batting\n",
            "https://stats.espncricinfo.com/ci/engine/stats/index.html?class=3;home_or_away=1;home_or_away=2;home_or_away=3;orderby=sixes;orderbyad=reverse;page=6;result=1;result=2;result=3;result=5;template=results;type=batting\n",
            "https://stats.espncricinfo.com/ci/engine/stats/index.html?class=3;home_or_away=1;home_or_away=2;home_or_away=3;orderby=sixes;orderbyad=reverse;page=7;result=1;result=2;result=3;result=5;template=results;type=batting\n",
            "https://stats.espncricinfo.com/ci/engine/stats/index.html?class=3;home_or_away=1;home_or_away=2;home_or_away=3;orderby=sixes;orderbyad=reverse;page=8;result=1;result=2;result=3;result=5;template=results;type=batting\n",
            "https://stats.espncricinfo.com/ci/engine/stats/index.html?class=3;home_or_away=1;home_or_away=2;home_or_away=3;orderby=sixes;orderbyad=reverse;page=9;result=1;result=2;result=3;result=5;template=results;type=batting\n",
            "https://stats.espncricinfo.com/ci/engine/stats/index.html?class=3;home_or_away=1;home_or_away=2;home_or_away=3;orderby=sixes;orderbyad=reverse;page=10;result=1;result=2;result=3;result=5;template=results;type=batting\n",
            "https://stats.espncricinfo.com/ci/engine/stats/index.html?class=3;home_or_away=1;home_or_away=2;home_or_away=3;orderby=sixes;orderbyad=reverse;page=11;result=1;result=2;result=3;result=5;template=results;type=batting\n",
            "https://stats.espncricinfo.com/ci/engine/stats/index.html?class=3;home_or_away=1;home_or_away=2;home_or_away=3;orderby=sixes;orderbyad=reverse;page=12;result=1;result=2;result=3;result=5;template=results;type=batting\n",
            "https://stats.espncricinfo.com/ci/engine/stats/index.html?class=3;home_or_away=1;home_or_away=2;home_or_away=3;orderby=sixes;orderbyad=reverse;page=13;result=1;result=2;result=3;result=5;template=results;type=batting\n",
            "https://stats.espncricinfo.com/ci/engine/stats/index.html?class=3;home_or_away=1;home_or_away=2;home_or_away=3;orderby=sixes;orderbyad=reverse;page=14;result=1;result=2;result=3;result=5;template=results;type=batting\n",
            "https://stats.espncricinfo.com/ci/engine/stats/index.html?class=3;home_or_away=1;home_or_away=2;home_or_away=3;orderby=sixes;orderbyad=reverse;page=15;result=1;result=2;result=3;result=5;template=results;type=batting\n",
            "https://stats.espncricinfo.com/ci/engine/stats/index.html?class=3;home_or_away=1;home_or_away=2;home_or_away=3;orderby=sixes;orderbyad=reverse;page=16;result=1;result=2;result=3;result=5;template=results;type=batting\n",
            "https://stats.espncricinfo.com/ci/engine/stats/index.html?class=3;home_or_away=1;home_or_away=2;home_or_away=3;orderby=sixes;orderbyad=reverse;page=17;result=1;result=2;result=3;result=5;template=results;type=batting\n",
            "https://stats.espncricinfo.com/ci/engine/stats/index.html?class=3;home_or_away=1;home_or_away=2;home_or_away=3;orderby=sixes;orderbyad=reverse;page=18;result=1;result=2;result=3;result=5;template=results;type=batting\n",
            "https://stats.espncricinfo.com/ci/engine/stats/index.html?class=3;home_or_away=1;home_or_away=2;home_or_away=3;orderby=sixes;orderbyad=reverse;page=19;result=1;result=2;result=3;result=5;template=results;type=batting\n"
          ]
        }
      ],
      "source": [
        "# Scrap EspnCricInfo Bowlers data website\n",
        "from bs4 import BeautifulSoup\n",
        "import requests\n",
        "import csv\n",
        "flag=1\n",
        "def scrapESPN(url,flag):\n",
        "  p = requests.get(url)\n",
        "  soup = BeautifulSoup(p.content, 'html.parser')\n",
        "  content = soup.find_all('tr', class_='data1')\n",
        "  fields = ['Player',   'Span', 'Mat',  'Inns', 'NO',   'Runs', 'HS',   'Ave',  'BF',   'SR',   '100',  '50',   '0',    '4s',   '6s','']\n",
        "  itemfull = []\n",
        "  for item in content:\n",
        "    items = []\n",
        "    playerdata=(item.find_all('td'))\n",
        "    for i in playerdata:\n",
        "      items.append(i.text)\n",
        "    itemfull.append(items)\n",
        "  \n",
        "  with open(\"VIKASHResults.csv\", 'a') as csvfile:  \n",
        "      # creating a csv writer object  \n",
        "      csvwriter = csv.writer(csvfile)\n",
        "      if(flag==1):\n",
        "        csvwriter.writerow(fields)\n",
        "        flag=0\n",
        "      csvwriter.writerows(itemfull)\n",
        "\n",
        "url1 = \"https://stats.espncricinfo.com/ci/engine/stats/index.html?class=3;home_or_away=1;home_or_away=2;home_or_away=3;orderby=sixes;orderbyad=reverse;\"\n",
        "url2 = \"\"\n",
        "url3 = \"result=1;result=2;result=3;result=5;template=results;type=batting\"\n",
        "url = url1+url2+url3\n",
        "flag=1\n",
        "scrapESPN(url,1)\n",
        "for i in range(2,20):\n",
        "  url2 = \"page=\"+str(i)+\";\"\n",
        "  url = url1+url2+url3\n",
        "  print(url)\n",
        "  scrapESPN(url,0)"
      ]
    },
    {
      "cell_type": "code",
      "source": [
        "import pandas as pd\n",
        "data = pd.read_csv(\"VIKASHResults.csv\")\n",
        "df = data.head(30)"
      ],
      "metadata": {
        "id": "Twx6wqQw3Gmi"
      },
      "execution_count": 7,
      "outputs": []
    },
    {
      "cell_type": "code",
      "source": [
        "import pandas as pd\n",
        "import numpy as np\n",
        "import matplotlib.pyplot as plt\n",
        "import seaborn as sns"
      ],
      "metadata": {
        "id": "-hQUW6S83TT8"
      },
      "execution_count": 5,
      "outputs": []
    },
    {
      "cell_type": "code",
      "source": [
        "data.head()\n",
        " \n",
        "# correlation between the different parameters\n",
        "tc = data.corr()\n",
        " \n",
        "# plot a heatmap of the correlated data\n",
        "sns.heatmap(tc)"
      ],
      "metadata": {
        "colab": {
          "base_uri": "https://localhost:8080/",
          "height": 344
        },
        "id": "oZAg-ssP3TiW",
        "outputId": "fd8baeaf-2e3a-43ca-c859-b58b5b0c3900"
      },
      "execution_count": 8,
      "outputs": [
        {
          "output_type": "execute_result",
          "data": {
            "text/plain": [
              "<matplotlib.axes._subplots.AxesSubplot at 0x7fb82b569ad0>"
            ]
          },
          "metadata": {},
          "execution_count": 8
        },
        {
          "output_type": "display_data",
          "data": {
            "text/plain": [
              "<Figure size 432x288 with 2 Axes>"
            ],
            "image/png": "[encoded data removed]"
          },
          "metadata": {
            "needs_background": "light"
          }
        }
      ]
    },
    {
      "cell_type": "code",
      "source": [],
      "metadata": {
        "id": "pg3D3ve63-84"
      },
      "execution_count": null,
      "outputs": []
    }
  ]
}